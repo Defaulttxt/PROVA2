{
 "cells": [
  {
   "cell_type": "code",
   "execution_count": null,
   "id": "c0e71efb-05ba-43d2-a615-7d92c4e26591",
   "metadata": {},
   "outputs": [],
   "source": [
    "def consumo(lista):\n",
    "    return sum(lista) / len(lista)"
   ]
  },
  {
   "cell_type": "code",
   "execution_count": null,
   "id": "870fcfcb-4534-4526-af79-6ebe165c9636",
   "metadata": {},
   "outputs": [],
   "source": [
    "lista = [50, 45, 55, 60, 48, 52, 47, 49, 53, 51, 50, 46, 54, 61, 49, 53, 48, 50, 52, 47, 56, 50, 55, 60, 48, 52, 47, 49, 53, 51]"
   ]
  },
  {
   "cell_type": "code",
   "execution_count": null,
   "id": "243160b9-baa9-4ea7-a24b-2f3849e98a11",
   "metadata": {},
   "outputs": [],
   "source": [
    "media = consumo(lista)\n",
    "print(f\"O CONSUMO DIÁRIO FOI DE {media:.2f} kWh.\")"
   ]
  },
  {
   "cell_type": "code",
   "execution_count": 53,
   "id": "f7f2c717-46f8-4d6c-a36b-e1a1d0bd65a1",
   "metadata": {},
   "outputs": [
    {
     "name": "stdout",
     "output_type": "stream",
     "text": [
      "O consumo diário médio foi de 51.37 kWh.\n"
     ]
    }
   ],
   "source": [
    "def consumo(lista):\n",
    "    return sum(lista) / len(lista)\n",
    "\n",
    "\n",
    "lista = [50, 45, 55, 60, 48, 52, 47, 49, 53, 51, 50, 46, 54, 61, 49, 53, 48, 50, 52, 47, 56, 50, 55, 60, 48, 52, 47, 49, 53, 51]\n",
    "\n",
    "\n",
    "media = consumo(lista)\n",
    "print(f\"O consumo diário médio foi de {media:.2f} kWh.\")"
   ]
  }
 ],
 "metadata": {
  "kernelspec": {
   "display_name": "Python 3 (ipykernel)",
   "language": "python",
   "name": "python3"
  },
  "language_info": {
   "codemirror_mode": {
    "name": "ipython",
    "version": 3
   },
   "file_extension": ".py",
   "mimetype": "text/x-python",
   "name": "python",
   "nbconvert_exporter": "python",
   "pygments_lexer": "ipython3",
   "version": "3.12.4"
  }
 },
 "nbformat": 4,
 "nbformat_minor": 5
}
